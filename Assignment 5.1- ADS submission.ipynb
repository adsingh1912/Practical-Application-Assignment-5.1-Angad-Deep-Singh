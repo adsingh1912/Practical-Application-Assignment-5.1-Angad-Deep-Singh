{
 "cells": [
  {
   "cell_type": "markdown",
   "metadata": {},
   "source": [
    "### Will a Customer Accept the Coupon?\n",
    "\n",
    "**Context**\n",
    "\n",
    "Imagine driving through town and a coupon is delivered to your cell phone for a restaraunt near where you are driving. Would you accept that coupon and take a short detour to the restaraunt? Would you accept the coupon but use it on a sunbsequent trip? Would you ignore the coupon entirely? What if the coupon was for a bar instead of a restaraunt? What about a coffee house? Would you accept a bar coupon with a minor passenger in the car? What about if it was just you and your partner in the car? Would weather impact the rate of acceptance? What about the time of day?\n",
    "\n",
    "Obviously, proximity to the business is a factor on whether the coupon is delivered to the driver or not, but what are the factors that determine whether a driver accepts the coupon once it is delivered to them? How would you determine whether a driver is likely to accept a coupon?\n",
    "\n",
    "**Overview**\n",
    "\n",
    "The goal of this project is to use what you know about visualizations and probability distributions to distinguish between customers who accepted a driving coupon versus those that did not.\n",
    "\n",
    "**Data**\n",
    "\n",
    "This data comes to us from the UCI Machine Learning repository and was collected via a survey on Amazon Mechanical Turk. The survey describes different driving scenarios including the destination, current time, weather, passenger, etc., and then ask the person whether he will accept the coupon if he is the driver. Answers that the user will drive there ‘right away’ or ‘later before the coupon expires’ are labeled as ‘Y = 1’ and answers ‘no, I do not want the coupon’ are labeled as ‘Y = 0’.  There are five different types of coupons -- less expensive restaurants (under \\\\$20), coffee houses, carry out & take away, bar, and more expensive restaurants (\\\\$20 - \\\\$50). "
   ]
  },
  {
   "cell_type": "markdown",
   "metadata": {},
   "source": [
    "**Deliverables**\n",
    "\n",
    "Your final product should be a brief report that highlights the differences between customers who did and did not accept the coupons.  To explore the data you will utilize your knowledge of plotting, statistical summaries, and visualization using Python. You will publish your findings in a public facing github repository as your first portfolio piece. \n",
    "\n",
    "\n",
    "\n"
   ]
  },
  {
   "cell_type": "markdown",
   "metadata": {},
   "source": [
    "### Data Description\n",
    "\n",
    "The attributes of this data set include:\n",
    "1. User attributes\n",
    "    -  Gender: male, female\n",
    "    -  Age: below 21, 21 to 25, 26 to 30, etc.\n",
    "    -  Marital Status: single, married partner, unmarried partner, or widowed\n",
    "    -  Number of children: 0, 1, or more than 1\n",
    "    -  Education: high school, bachelors degree, associates degree, or graduate degree\n",
    "    -  Occupation: architecture & engineering, business & financial, etc.\n",
    "    -  Annual income: less than \\\\$12500, \\\\$12500 - \\\\$24999, \\\\$25000 - \\\\$37499, etc.\n",
    "    -  Number of times that he/she goes to a bar: 0, less than 1, 1 to 3, 4 to 8 or greater than 8\n",
    "    -  Number of times that he/she buys takeaway food: 0, less than 1, 1 to 3, 4 to 8 or greater\n",
    "    than 8\n",
    "    -  Number of times that he/she goes to a coffee house: 0, less than 1, 1 to 3, 4 to 8 or\n",
    "    greater than 8\n",
    "    -  Number of times that he/she eats at a restaurant with average expense less than \\\\$20 per\n",
    "    person: 0, less than 1, 1 to 3, 4 to 8 or greater than 8\n",
    "    -  Number of times that he/she goes to a bar: 0, less than 1, 1 to 3, 4 to 8 or greater than 8\n",
    "    \n",
    "\n",
    "2. Contextual attributes\n",
    "    - Driving destination: home, work, or no urgent destination\n",
    "    - Location of user, coupon and destination: we provide a map to show the geographical\n",
    "    location of the user, destination, and the venue, and we mark the distance between each\n",
    "    two places with time of driving. The user can see whether the venue is in the same\n",
    "    direction as the destination.\n",
    "    - Weather: sunny, rainy, or snowy\n",
    "    - Temperature: 30F, 55F, or 80F\n",
    "    - Time: 10AM, 2PM, or 6PM\n",
    "    - Passenger: alone, partner, kid(s), or friend(s)\n",
    "\n",
    "\n",
    "3. Coupon attributes\n",
    "    - time before it expires: 2 hours or one day"
   ]
  },
  {
   "cell_type": "code",
   "execution_count": 3,
   "metadata": {},
   "outputs": [],
   "source": [
    "import matplotlib.pyplot as plt\n",
    "import seaborn as sns\n",
    "import pandas as pd\n",
    "import numpy as np"
   ]
  },
  {
   "cell_type": "markdown",
   "metadata": {},
   "source": [
    "### Problems\n",
    "\n",
    "Use the prompts below to get started with your data analysis.  \n",
    "\n",
    "1. Read in the `coupons.csv` file.\n",
    "\n",
    "\n"
   ]
  },
  {
   "cell_type": "code",
   "execution_count": 4,
   "metadata": {},
   "outputs": [],
   "source": [
    "data = pd.read_csv('data/coupons.csv')"
   ]
  },
  {
   "cell_type": "code",
   "execution_count": 5,
   "metadata": {
    "scrolled": true
   },
   "outputs": [
    {
     "data": {
      "text/html": [
       "<div>\n",
       "<style scoped>\n",
       "    .dataframe tbody tr th:only-of-type {\n",
       "        vertical-align: middle;\n",
       "    }\n",
       "\n",
       "    .dataframe tbody tr th {\n",
       "        vertical-align: top;\n",
       "    }\n",
       "\n",
       "    .dataframe thead th {\n",
       "        text-align: right;\n",
       "    }\n",
       "</style>\n",
       "<table border=\"1\" class=\"dataframe\">\n",
       "  <thead>\n",
       "    <tr style=\"text-align: right;\">\n",
       "      <th></th>\n",
       "      <th>destination</th>\n",
       "      <th>passanger</th>\n",
       "      <th>weather</th>\n",
       "      <th>temperature</th>\n",
       "      <th>time</th>\n",
       "      <th>coupon</th>\n",
       "      <th>expiration</th>\n",
       "      <th>gender</th>\n",
       "      <th>age</th>\n",
       "      <th>maritalStatus</th>\n",
       "      <th>...</th>\n",
       "      <th>CoffeeHouse</th>\n",
       "      <th>CarryAway</th>\n",
       "      <th>RestaurantLessThan20</th>\n",
       "      <th>Restaurant20To50</th>\n",
       "      <th>toCoupon_GEQ5min</th>\n",
       "      <th>toCoupon_GEQ15min</th>\n",
       "      <th>toCoupon_GEQ25min</th>\n",
       "      <th>direction_same</th>\n",
       "      <th>direction_opp</th>\n",
       "      <th>Y</th>\n",
       "    </tr>\n",
       "  </thead>\n",
       "  <tbody>\n",
       "    <tr>\n",
       "      <th>0</th>\n",
       "      <td>No Urgent Place</td>\n",
       "      <td>Alone</td>\n",
       "      <td>Sunny</td>\n",
       "      <td>55</td>\n",
       "      <td>2PM</td>\n",
       "      <td>Restaurant(&lt;20)</td>\n",
       "      <td>1d</td>\n",
       "      <td>Female</td>\n",
       "      <td>21</td>\n",
       "      <td>Unmarried partner</td>\n",
       "      <td>...</td>\n",
       "      <td>never</td>\n",
       "      <td>NaN</td>\n",
       "      <td>4~8</td>\n",
       "      <td>1~3</td>\n",
       "      <td>1</td>\n",
       "      <td>0</td>\n",
       "      <td>0</td>\n",
       "      <td>0</td>\n",
       "      <td>1</td>\n",
       "      <td>1</td>\n",
       "    </tr>\n",
       "    <tr>\n",
       "      <th>1</th>\n",
       "      <td>No Urgent Place</td>\n",
       "      <td>Friend(s)</td>\n",
       "      <td>Sunny</td>\n",
       "      <td>80</td>\n",
       "      <td>10AM</td>\n",
       "      <td>Coffee House</td>\n",
       "      <td>2h</td>\n",
       "      <td>Female</td>\n",
       "      <td>21</td>\n",
       "      <td>Unmarried partner</td>\n",
       "      <td>...</td>\n",
       "      <td>never</td>\n",
       "      <td>NaN</td>\n",
       "      <td>4~8</td>\n",
       "      <td>1~3</td>\n",
       "      <td>1</td>\n",
       "      <td>0</td>\n",
       "      <td>0</td>\n",
       "      <td>0</td>\n",
       "      <td>1</td>\n",
       "      <td>0</td>\n",
       "    </tr>\n",
       "    <tr>\n",
       "      <th>2</th>\n",
       "      <td>No Urgent Place</td>\n",
       "      <td>Friend(s)</td>\n",
       "      <td>Sunny</td>\n",
       "      <td>80</td>\n",
       "      <td>10AM</td>\n",
       "      <td>Carry out &amp; Take away</td>\n",
       "      <td>2h</td>\n",
       "      <td>Female</td>\n",
       "      <td>21</td>\n",
       "      <td>Unmarried partner</td>\n",
       "      <td>...</td>\n",
       "      <td>never</td>\n",
       "      <td>NaN</td>\n",
       "      <td>4~8</td>\n",
       "      <td>1~3</td>\n",
       "      <td>1</td>\n",
       "      <td>1</td>\n",
       "      <td>0</td>\n",
       "      <td>0</td>\n",
       "      <td>1</td>\n",
       "      <td>1</td>\n",
       "    </tr>\n",
       "    <tr>\n",
       "      <th>3</th>\n",
       "      <td>No Urgent Place</td>\n",
       "      <td>Friend(s)</td>\n",
       "      <td>Sunny</td>\n",
       "      <td>80</td>\n",
       "      <td>2PM</td>\n",
       "      <td>Coffee House</td>\n",
       "      <td>2h</td>\n",
       "      <td>Female</td>\n",
       "      <td>21</td>\n",
       "      <td>Unmarried partner</td>\n",
       "      <td>...</td>\n",
       "      <td>never</td>\n",
       "      <td>NaN</td>\n",
       "      <td>4~8</td>\n",
       "      <td>1~3</td>\n",
       "      <td>1</td>\n",
       "      <td>1</td>\n",
       "      <td>0</td>\n",
       "      <td>0</td>\n",
       "      <td>1</td>\n",
       "      <td>0</td>\n",
       "    </tr>\n",
       "    <tr>\n",
       "      <th>4</th>\n",
       "      <td>No Urgent Place</td>\n",
       "      <td>Friend(s)</td>\n",
       "      <td>Sunny</td>\n",
       "      <td>80</td>\n",
       "      <td>2PM</td>\n",
       "      <td>Coffee House</td>\n",
       "      <td>1d</td>\n",
       "      <td>Female</td>\n",
       "      <td>21</td>\n",
       "      <td>Unmarried partner</td>\n",
       "      <td>...</td>\n",
       "      <td>never</td>\n",
       "      <td>NaN</td>\n",
       "      <td>4~8</td>\n",
       "      <td>1~3</td>\n",
       "      <td>1</td>\n",
       "      <td>1</td>\n",
       "      <td>0</td>\n",
       "      <td>0</td>\n",
       "      <td>1</td>\n",
       "      <td>0</td>\n",
       "    </tr>\n",
       "  </tbody>\n",
       "</table>\n",
       "<p>5 rows × 26 columns</p>\n",
       "</div>"
      ],
      "text/plain": [
       "       destination  passanger weather  temperature  time  \\\n",
       "0  No Urgent Place      Alone   Sunny           55   2PM   \n",
       "1  No Urgent Place  Friend(s)   Sunny           80  10AM   \n",
       "2  No Urgent Place  Friend(s)   Sunny           80  10AM   \n",
       "3  No Urgent Place  Friend(s)   Sunny           80   2PM   \n",
       "4  No Urgent Place  Friend(s)   Sunny           80   2PM   \n",
       "\n",
       "                  coupon expiration  gender age      maritalStatus  ...  \\\n",
       "0        Restaurant(<20)         1d  Female  21  Unmarried partner  ...   \n",
       "1           Coffee House         2h  Female  21  Unmarried partner  ...   \n",
       "2  Carry out & Take away         2h  Female  21  Unmarried partner  ...   \n",
       "3           Coffee House         2h  Female  21  Unmarried partner  ...   \n",
       "4           Coffee House         1d  Female  21  Unmarried partner  ...   \n",
       "\n",
       "   CoffeeHouse CarryAway RestaurantLessThan20 Restaurant20To50  \\\n",
       "0        never       NaN                  4~8              1~3   \n",
       "1        never       NaN                  4~8              1~3   \n",
       "2        never       NaN                  4~8              1~3   \n",
       "3        never       NaN                  4~8              1~3   \n",
       "4        never       NaN                  4~8              1~3   \n",
       "\n",
       "  toCoupon_GEQ5min toCoupon_GEQ15min toCoupon_GEQ25min direction_same  \\\n",
       "0                1                 0                 0              0   \n",
       "1                1                 0                 0              0   \n",
       "2                1                 1                 0              0   \n",
       "3                1                 1                 0              0   \n",
       "4                1                 1                 0              0   \n",
       "\n",
       "  direction_opp  Y  \n",
       "0             1  1  \n",
       "1             1  0  \n",
       "2             1  1  \n",
       "3             1  0  \n",
       "4             1  0  \n",
       "\n",
       "[5 rows x 26 columns]"
      ]
     },
     "execution_count": 5,
     "metadata": {},
     "output_type": "execute_result"
    }
   ],
   "source": [
    "data.head()"
   ]
  },
  {
   "cell_type": "markdown",
   "metadata": {},
   "source": [
    "2. Investigate the dataset for missing or problematic data."
   ]
  },
  {
   "cell_type": "code",
   "execution_count": 6,
   "metadata": {},
   "outputs": [
    {
     "name": "stdout",
     "output_type": "stream",
     "text": [
      "<class 'pandas.core.frame.DataFrame'>\n",
      "RangeIndex: 12684 entries, 0 to 12683\n",
      "Data columns (total 26 columns):\n",
      " #   Column                Non-Null Count  Dtype \n",
      "---  ------                --------------  ----- \n",
      " 0   destination           12684 non-null  object\n",
      " 1   passanger             12684 non-null  object\n",
      " 2   weather               12684 non-null  object\n",
      " 3   temperature           12684 non-null  int64 \n",
      " 4   time                  12684 non-null  object\n",
      " 5   coupon                12684 non-null  object\n",
      " 6   expiration            12684 non-null  object\n",
      " 7   gender                12684 non-null  object\n",
      " 8   age                   12684 non-null  object\n",
      " 9   maritalStatus         12684 non-null  object\n",
      " 10  has_children          12684 non-null  int64 \n",
      " 11  education             12684 non-null  object\n",
      " 12  occupation            12684 non-null  object\n",
      " 13  income                12684 non-null  object\n",
      " 14  car                   108 non-null    object\n",
      " 15  Bar                   12577 non-null  object\n",
      " 16  CoffeeHouse           12467 non-null  object\n",
      " 17  CarryAway             12533 non-null  object\n",
      " 18  RestaurantLessThan20  12554 non-null  object\n",
      " 19  Restaurant20To50      12495 non-null  object\n",
      " 20  toCoupon_GEQ5min      12684 non-null  int64 \n",
      " 21  toCoupon_GEQ15min     12684 non-null  int64 \n",
      " 22  toCoupon_GEQ25min     12684 non-null  int64 \n",
      " 23  direction_same        12684 non-null  int64 \n",
      " 24  direction_opp         12684 non-null  int64 \n",
      " 25  Y                     12684 non-null  int64 \n",
      "dtypes: int64(8), object(18)\n",
      "memory usage: 2.5+ MB\n"
     ]
    }
   ],
   "source": [
    "data.info()"
   ]
  },
  {
   "cell_type": "code",
   "execution_count": 40,
   "metadata": {},
   "outputs": [
    {
     "data": {
      "text/plain": [
       "destination                 0\n",
       "direction_same              0\n",
       "toCoupon_GEQ25min           0\n",
       "toCoupon_GEQ15min           0\n",
       "toCoupon_GEQ5min            0\n",
       "income                      0\n",
       "direction_opp               0\n",
       "education                   0\n",
       "has_children                0\n",
       "occupation                  0\n",
       "age                         0\n",
       "gender                      0\n",
       "expiration                  0\n",
       "coupon                      0\n",
       "time                        0\n",
       "temperature                 0\n",
       "weather                     0\n",
       "passanger                   0\n",
       "maritalStatus               0\n",
       "Y                           0\n",
       "Bar                       107\n",
       "RestaurantLessThan20      130\n",
       "CarryAway                 151\n",
       "Restaurant20To50          189\n",
       "CoffeeHouse               217\n",
       "car                     12576\n",
       "dtype: int64"
      ]
     },
     "execution_count": 40,
     "metadata": {},
     "output_type": "execute_result"
    }
   ],
   "source": [
    "data.isnull().sum().sort_values()"
   ]
  },
  {
   "cell_type": "code",
   "execution_count": 13,
   "metadata": {},
   "outputs": [],
   "source": []
  },
  {
   "cell_type": "markdown",
   "metadata": {},
   "source": [
    "3. Decide what to do about your missing data -- drop, replace, other..."
   ]
  },
  {
   "cell_type": "code",
   "execution_count": 8,
   "metadata": {},
   "outputs": [],
   "source": [
    "# I have dropped the column car because most of the values in that column are null values\n",
    "A = data[['destination','direction_same','toCoupon_GEQ25min','toCoupon_GEQ15min','toCoupon_GEQ5min','income','direction_opp',\n",
    "          'education','has_children','occupation','age','gender','expiration','coupon','time','temperature',\n",
    "         'weather','passanger','maritalStatus','Y','Bar','RestaurantLessThan20','CarryAway','Restaurant20To50','CoffeeHouse']]"
   ]
  },
  {
   "cell_type": "code",
   "execution_count": 9,
   "metadata": {},
   "outputs": [
    {
     "name": "stderr",
     "output_type": "stream",
     "text": [
      "C:\\Users\\amrin\\AppData\\Local\\Temp\\ipykernel_12756\\352957448.py:2: SettingWithCopyWarning: \n",
      "A value is trying to be set on a copy of a slice from a DataFrame\n",
      "\n",
      "See the caveats in the documentation: https://pandas.pydata.org/pandas-docs/stable/user_guide/indexing.html#returning-a-view-versus-a-copy\n",
      "  A.dropna(inplace=True)\n"
     ]
    }
   ],
   "source": [
    "# Dropping null values in other columns\n",
    "A.dropna(inplace=True)"
   ]
  },
  {
   "cell_type": "code",
   "execution_count": 10,
   "metadata": {},
   "outputs": [
    {
     "name": "stdout",
     "output_type": "stream",
     "text": [
      "<class 'pandas.core.frame.DataFrame'>\n",
      "Int64Index: 12079 entries, 22 to 12683\n",
      "Data columns (total 25 columns):\n",
      " #   Column                Non-Null Count  Dtype \n",
      "---  ------                --------------  ----- \n",
      " 0   destination           12079 non-null  object\n",
      " 1   direction_same        12079 non-null  int64 \n",
      " 2   toCoupon_GEQ25min     12079 non-null  int64 \n",
      " 3   toCoupon_GEQ15min     12079 non-null  int64 \n",
      " 4   toCoupon_GEQ5min      12079 non-null  int64 \n",
      " 5   income                12079 non-null  object\n",
      " 6   direction_opp         12079 non-null  int64 \n",
      " 7   education             12079 non-null  object\n",
      " 8   has_children          12079 non-null  int64 \n",
      " 9   occupation            12079 non-null  object\n",
      " 10  age                   12079 non-null  object\n",
      " 11  gender                12079 non-null  object\n",
      " 12  expiration            12079 non-null  object\n",
      " 13  coupon                12079 non-null  object\n",
      " 14  time                  12079 non-null  object\n",
      " 15  temperature           12079 non-null  int64 \n",
      " 16  weather               12079 non-null  object\n",
      " 17  passanger             12079 non-null  object\n",
      " 18  maritalStatus         12079 non-null  object\n",
      " 19  Y                     12079 non-null  int64 \n",
      " 20  Bar                   12079 non-null  object\n",
      " 21  RestaurantLessThan20  12079 non-null  object\n",
      " 22  CarryAway             12079 non-null  object\n",
      " 23  Restaurant20To50      12079 non-null  object\n",
      " 24  CoffeeHouse           12079 non-null  object\n",
      "dtypes: int64(8), object(17)\n",
      "memory usage: 2.4+ MB\n"
     ]
    }
   ],
   "source": [
    "A.info()"
   ]
  },
  {
   "cell_type": "code",
   "execution_count": null,
   "metadata": {},
   "outputs": [],
   "source": []
  },
  {
   "cell_type": "markdown",
   "metadata": {},
   "source": [
    "4. What proportion of the total observations chose to accept the coupon? \n",
    "\n"
   ]
  },
  {
   "cell_type": "code",
   "execution_count": 11,
   "metadata": {},
   "outputs": [
    {
     "data": {
      "text/plain": [
       "1    6877\n",
       "0    5202\n",
       "Name: Y, dtype: int64"
      ]
     },
     "execution_count": 11,
     "metadata": {},
     "output_type": "execute_result"
    }
   ],
   "source": [
    "A['Y'].value_counts()"
   ]
  },
  {
   "cell_type": "code",
   "execution_count": 122,
   "metadata": {},
   "outputs": [
    {
     "data": {
      "text/plain": [
       "0.57"
      ]
     },
     "execution_count": 122,
     "metadata": {},
     "output_type": "execute_result"
    }
   ],
   "source": [
    "# Since all data values are integers in this dataset, we can use the sum function and count function to determine the percentage\n",
    "B = round(((A['Y'].sum()/A['Y'].count())),2)\n",
    "B"
   ]
  },
  {
   "cell_type": "code",
   "execution_count": null,
   "metadata": {},
   "outputs": [],
   "source": []
  },
  {
   "cell_type": "markdown",
   "metadata": {},
   "source": [
    "5. Use a bar plot to visualize the `coupon` column."
   ]
  },
  {
   "cell_type": "code",
   "execution_count": 13,
   "metadata": {},
   "outputs": [
    {
     "data": {
      "text/plain": [
       "Text(0.5, 1.0, 'Showcasing the frequency of coupon usage in various restaurant types')"
      ]
     },
     "execution_count": 13,
     "metadata": {},
     "output_type": "execute_result"
    },
    {
     "data": {
      "image/png": "[encoded data removed]",
      "text/plain": [
       "<Figure size 432x288 with 1 Axes>"
      ]
     },
     "metadata": {
      "needs_background": "light"
     },
     "output_type": "display_data"
    }
   ],
   "source": [
    "C= pd.DataFrame(A['coupon'].value_counts())\n",
    "D = C.reset_index()\n",
    "D.plot(kind='bar', x='index', y ='coupon')\n",
    "plt.xlabel('Usage of coupons in various eating joints')\n",
    "plt.ylabel('Counts')\n",
    "plt.title('Showcasing the frequency of coupon usage in various restaurant types')"
   ]
  },
  {
   "cell_type": "markdown",
   "metadata": {},
   "source": [
    "6. Use a histogram to visualize the temperature column."
   ]
  },
  {
   "cell_type": "code",
   "execution_count": 14,
   "metadata": {},
   "outputs": [
    {
     "data": {
      "text/plain": [
       "Text(0.5, 1.0, 'Temperature vs Frequency')"
      ]
     },
     "execution_count": 14,
     "metadata": {},
     "output_type": "execute_result"
    },
    {
     "data": {
      "image/png": "[encoded data removed]",
      "text/plain": [
       "<Figure size 432x288 with 1 Axes>"
      ]
     },
     "metadata": {
      "needs_background": "light"
     },
     "output_type": "display_data"
    }
   ],
   "source": [
    "sns.histplot(data=A, x= A['temperature'], bins=3)\n",
    "plt.xlabel('tempearture')\n",
    "plt.ylabel('Frequency')\n",
    "plt.title('Temperature vs Frequency')"
   ]
  },
  {
   "cell_type": "markdown",
   "metadata": {},
   "source": [
    "**Investigating the Bar Coupons**\n",
    "\n",
    "Now, we will lead you through an exploration of just the bar related coupons.  \n",
    "\n",
    "1. Create a new `DataFrame` that contains just the bar coupons.\n"
   ]
  },
  {
   "cell_type": "code",
   "execution_count": 15,
   "metadata": {},
   "outputs": [],
   "source": [
    "E = A.query(\"coupon == 'Bar'\")"
   ]
  },
  {
   "cell_type": "markdown",
   "metadata": {},
   "source": [
    "2. What proportion of bar coupons were accepted?\n"
   ]
  },
  {
   "cell_type": "code",
   "execution_count": 16,
   "metadata": {},
   "outputs": [
    {
     "data": {
      "text/plain": [
       "0    1125\n",
       "1     788\n",
       "Name: Y, dtype: int64"
      ]
     },
     "execution_count": 16,
     "metadata": {},
     "output_type": "execute_result"
    }
   ],
   "source": [
    "E['Y'].value_counts()"
   ]
  },
  {
   "cell_type": "code",
   "execution_count": 121,
   "metadata": {},
   "outputs": [
    {
     "data": {
      "text/plain": [
       "0.41"
      ]
     },
     "execution_count": 121,
     "metadata": {},
     "output_type": "execute_result"
    }
   ],
   "source": [
    "F = round(((E['Y'].sum()/E['Y'].count())),2)\n",
    "F"
   ]
  },
  {
   "cell_type": "markdown",
   "metadata": {},
   "source": [
    "3. Compare the acceptance rate between those who went to a bar 3 or fewer times a month to those who went more."
   ]
  },
  {
   "cell_type": "code",
   "execution_count": 18,
   "metadata": {},
   "outputs": [
    {
     "name": "stderr",
     "output_type": "stream",
     "text": [
      "C:\\Users\\amrin\\AppData\\Local\\Temp\\ipykernel_12756\\2980382977.py:3: SettingWithCopyWarning: \n",
      "A value is trying to be set on a copy of a slice from a DataFrame\n",
      "\n",
      "See the caveats in the documentation: https://pandas.pydata.org/pandas-docs/stable/user_guide/indexing.html#returning-a-view-versus-a-copy\n",
      "  G['Bar'].mask(G['Bar']==\"never\",'0',inplace=True)\n",
      "C:\\Users\\amrin\\AppData\\Local\\Temp\\ipykernel_12756\\2980382977.py:4: SettingWithCopyWarning: \n",
      "A value is trying to be set on a copy of a slice from a DataFrame\n",
      "\n",
      "See the caveats in the documentation: https://pandas.pydata.org/pandas-docs/stable/user_guide/indexing.html#returning-a-view-versus-a-copy\n",
      "  G['Bar'].mask(G['Bar']==\"less1\",'1',inplace=True)\n",
      "C:\\Users\\amrin\\AppData\\Local\\Temp\\ipykernel_12756\\2980382977.py:5: SettingWithCopyWarning: \n",
      "A value is trying to be set on a copy of a slice from a DataFrame\n",
      "\n",
      "See the caveats in the documentation: https://pandas.pydata.org/pandas-docs/stable/user_guide/indexing.html#returning-a-view-versus-a-copy\n",
      "  G['Bar'].mask(G['Bar']==\"1~3\",'3',inplace=True)\n",
      "C:\\Users\\amrin\\AppData\\Local\\Temp\\ipykernel_12756\\2980382977.py:6: SettingWithCopyWarning: \n",
      "A value is trying to be set on a copy of a slice from a DataFrame\n",
      "\n",
      "See the caveats in the documentation: https://pandas.pydata.org/pandas-docs/stable/user_guide/indexing.html#returning-a-view-versus-a-copy\n",
      "  G['Bar'].mask(G['Bar']==\"4~8\",'8',inplace=True)\n",
      "C:\\Users\\amrin\\AppData\\Local\\Temp\\ipykernel_12756\\2980382977.py:7: SettingWithCopyWarning: \n",
      "A value is trying to be set on a copy of a slice from a DataFrame\n",
      "\n",
      "See the caveats in the documentation: https://pandas.pydata.org/pandas-docs/stable/user_guide/indexing.html#returning-a-view-versus-a-copy\n",
      "  G['Bar'].mask(G['Bar']==\"gt8\",'9',inplace=True)\n"
     ]
    }
   ],
   "source": [
    "#processing the data so that the following occurs, never = 0, less than 1 = 1, 1~3 = 3, 4~8 =8, gt8=9\n",
    "G= A.query(\"coupon == 'Bar'\")\n",
    "G['Bar'].mask(G['Bar']==\"never\",'0',inplace=True)\n",
    "G['Bar'].mask(G['Bar']==\"less1\",'1',inplace=True)\n",
    "G['Bar'].mask(G['Bar']==\"1~3\",'3',inplace=True)\n",
    "G['Bar'].mask(G['Bar']==\"4~8\",'8',inplace=True)\n",
    "G['Bar'].mask(G['Bar']==\"gt8\",'9',inplace=True)"
   ]
  },
  {
   "cell_type": "code",
   "execution_count": 20,
   "metadata": {
    "scrolled": true
   },
   "outputs": [
    {
     "name": "stderr",
     "output_type": "stream",
     "text": [
      "C:\\Users\\amrin\\AppData\\Local\\Temp\\ipykernel_12756\\2982159420.py:3: SettingWithCopyWarning: \n",
      "A value is trying to be set on a copy of a slice from a DataFrame.\n",
      "Try using .loc[row_indexer,col_indexer] = value instead\n",
      "\n",
      "See the caveats in the documentation: https://pandas.pydata.org/pandas-docs/stable/user_guide/indexing.html#returning-a-view-versus-a-copy\n",
      "  G['Bar']=pd.to_numeric(G['Bar'])\n"
     ]
    }
   ],
   "source": [
    "#Changing bar to an integer value\n",
    "\n",
    "G['Bar']=pd.to_numeric(G['Bar'])"
   ]
  },
  {
   "cell_type": "code",
   "execution_count": 188,
   "metadata": {},
   "outputs": [],
   "source": [
    "#Determining the number of people who went to a bar 3 or fewer times a month and accepted the coupon\n",
    "Less_than_3_accepted = G.loc[G['Bar']<= 3,'Y'].sum()\n",
    "\n",
    "#Determining the number of people who went to a bar 3 or more times a month and accepted the coupon\n",
    "Greater_than_3_accepted = G.loc[G['Bar']> 3,'Y'].sum()\n",
    "\n",
    "#Total number of accepted coupons\n",
    "Total_accepted1 = G.loc[G['Bar']<= 9,'Y'].sum()"
   ]
  },
  {
   "cell_type": "code",
   "execution_count": 189,
   "metadata": {},
   "outputs": [
    {
     "name": "stdout",
     "output_type": "stream",
     "text": [
      "The percent of people who accepted the coupon and visited the bar less than 3 times is 81.35 %\n",
      "The percent of people who accepted the coupon and visited the bar more than 3 times is 18.65 %\n"
     ]
    }
   ],
   "source": [
    "#Comparing the percentage of people who visited the bar 3 times or less vs those who visited more than 3 times as a function\n",
    "#of total number of coupon acceptances \n",
    "\n",
    "Percentage_less_than_3 = round(((Less_than_3_accepted/ Total_accepted1)*100),2)\n",
    "\n",
    "Percentage_greater_than_3 = round(((Greater_than_3_accepted/Total_accepted1)*100),2)\n",
    "\n",
    "print(\"The percent of people who accepted the coupon and visited the bar less than 3 times is\",Percentage_less_than_3,\"%\")\n",
    "\n",
    "print(\"The percent of people who accepted the coupon and visited the bar more than 3 times is\",Percentage_greater_than_3,\"%\")\n"
   ]
  },
  {
   "cell_type": "markdown",
   "metadata": {},
   "source": [
    "4. Compare the acceptance rate between drivers who go to a bar more than once a month and are over the age of 25 to the all others.  Is there a difference?\n"
   ]
  },
  {
   "cell_type": "code",
   "execution_count": 31,
   "metadata": {},
   "outputs": [
    {
     "name": "stderr",
     "output_type": "stream",
     "text": [
      "C:\\Users\\amrin\\AppData\\Local\\Temp\\ipykernel_12756\\2668844318.py:3: SettingWithCopyWarning: \n",
      "A value is trying to be set on a copy of a slice from a DataFrame\n",
      "\n",
      "See the caveats in the documentation: https://pandas.pydata.org/pandas-docs/stable/user_guide/indexing.html#returning-a-view-versus-a-copy\n",
      "  H['Bar'].mask(H['Bar']==\"never\",'0',inplace=True)\n",
      "C:\\Users\\amrin\\AppData\\Local\\Temp\\ipykernel_12756\\2668844318.py:4: SettingWithCopyWarning: \n",
      "A value is trying to be set on a copy of a slice from a DataFrame\n",
      "\n",
      "See the caveats in the documentation: https://pandas.pydata.org/pandas-docs/stable/user_guide/indexing.html#returning-a-view-versus-a-copy\n",
      "  H['Bar'].mask(H['Bar']==\"less1\",'1',inplace=True)\n",
      "C:\\Users\\amrin\\AppData\\Local\\Temp\\ipykernel_12756\\2668844318.py:5: SettingWithCopyWarning: \n",
      "A value is trying to be set on a copy of a slice from a DataFrame\n",
      "\n",
      "See the caveats in the documentation: https://pandas.pydata.org/pandas-docs/stable/user_guide/indexing.html#returning-a-view-versus-a-copy\n",
      "  H['Bar'].mask(H['Bar']==\"1~3\",'3',inplace=True)\n",
      "C:\\Users\\amrin\\AppData\\Local\\Temp\\ipykernel_12756\\2668844318.py:6: SettingWithCopyWarning: \n",
      "A value is trying to be set on a copy of a slice from a DataFrame\n",
      "\n",
      "See the caveats in the documentation: https://pandas.pydata.org/pandas-docs/stable/user_guide/indexing.html#returning-a-view-versus-a-copy\n",
      "  H['Bar'].mask(H['Bar']==\"4~8\",'8',inplace=True)\n",
      "C:\\Users\\amrin\\AppData\\Local\\Temp\\ipykernel_12756\\2668844318.py:7: SettingWithCopyWarning: \n",
      "A value is trying to be set on a copy of a slice from a DataFrame\n",
      "\n",
      "See the caveats in the documentation: https://pandas.pydata.org/pandas-docs/stable/user_guide/indexing.html#returning-a-view-versus-a-copy\n",
      "  H['Bar'].mask(H['Bar']==\"gt8\",'9',inplace=True)\n"
     ]
    }
   ],
   "source": [
    "#processing the data so that the following occurs, never = 0, less than 1 = 1, 1~3 = 3, 4~8 =8, gt8=9\n",
    "H= A.query(\"coupon == 'Bar'\")\n",
    "H['Bar'].mask(H['Bar']==\"never\",'0',inplace=True)\n",
    "H['Bar'].mask(H['Bar']==\"less1\",'1',inplace=True)\n",
    "H['Bar'].mask(H['Bar']==\"1~3\",'3',inplace=True)\n",
    "H['Bar'].mask(H['Bar']==\"4~8\",'8',inplace=True)\n",
    "H['Bar'].mask(H['Bar']==\"gt8\",'9',inplace=True)"
   ]
  },
  {
   "cell_type": "code",
   "execution_count": 47,
   "metadata": {
    "scrolled": true
   },
   "outputs": [
    {
     "name": "stderr",
     "output_type": "stream",
     "text": [
      "C:\\Users\\amrin\\AppData\\Local\\Temp\\ipykernel_12756\\469028345.py:1: SettingWithCopyWarning: \n",
      "A value is trying to be set on a copy of a slice from a DataFrame\n",
      "\n",
      "See the caveats in the documentation: https://pandas.pydata.org/pandas-docs/stable/user_guide/indexing.html#returning-a-view-versus-a-copy\n",
      "  H['age'].mask(H['age']==\"50plus\",'51',inplace=True)\n",
      "C:\\Users\\amrin\\AppData\\Local\\Temp\\ipykernel_12756\\469028345.py:2: SettingWithCopyWarning: \n",
      "A value is trying to be set on a copy of a slice from a DataFrame\n",
      "\n",
      "See the caveats in the documentation: https://pandas.pydata.org/pandas-docs/stable/user_guide/indexing.html#returning-a-view-versus-a-copy\n",
      "  H['age'].mask(H['age']==\"below21\",'20',inplace=True)\n"
     ]
    }
   ],
   "source": [
    "H['age'].mask(H['age']==\"50plus\",'51',inplace=True)\n",
    "H['age'].mask(H['age']==\"below21\",'20',inplace=True)"
   ]
  },
  {
   "cell_type": "code",
   "execution_count": 56,
   "metadata": {},
   "outputs": [
    {
     "name": "stderr",
     "output_type": "stream",
     "text": [
      "C:\\Users\\amrin\\AppData\\Local\\Temp\\ipykernel_12756\\155549796.py:1: SettingWithCopyWarning: \n",
      "A value is trying to be set on a copy of a slice from a DataFrame.\n",
      "Try using .loc[row_indexer,col_indexer] = value instead\n",
      "\n",
      "See the caveats in the documentation: https://pandas.pydata.org/pandas-docs/stable/user_guide/indexing.html#returning-a-view-versus-a-copy\n",
      "  H['age']=pd.to_numeric(H['age'])\n",
      "C:\\Users\\amrin\\AppData\\Local\\Temp\\ipykernel_12756\\155549796.py:2: SettingWithCopyWarning: \n",
      "A value is trying to be set on a copy of a slice from a DataFrame.\n",
      "Try using .loc[row_indexer,col_indexer] = value instead\n",
      "\n",
      "See the caveats in the documentation: https://pandas.pydata.org/pandas-docs/stable/user_guide/indexing.html#returning-a-view-versus-a-copy\n",
      "  H['Bar']=pd.to_numeric(H['Bar'])\n"
     ]
    }
   ],
   "source": [
    "H['age']=pd.to_numeric(H['age'])\n",
    "H['Bar']=pd.to_numeric(H['Bar'])"
   ]
  },
  {
   "cell_type": "code",
   "execution_count": 57,
   "metadata": {},
   "outputs": [
    {
     "name": "stdout",
     "output_type": "stream",
     "text": [
      "<class 'pandas.core.frame.DataFrame'>\n",
      "Int64Index: 1913 entries, 24 to 12682\n",
      "Data columns (total 25 columns):\n",
      " #   Column                Non-Null Count  Dtype \n",
      "---  ------                --------------  ----- \n",
      " 0   destination           1913 non-null   object\n",
      " 1   direction_same        1913 non-null   int64 \n",
      " 2   toCoupon_GEQ25min     1913 non-null   int64 \n",
      " 3   toCoupon_GEQ15min     1913 non-null   int64 \n",
      " 4   toCoupon_GEQ5min      1913 non-null   int64 \n",
      " 5   income                1913 non-null   object\n",
      " 6   direction_opp         1913 non-null   int64 \n",
      " 7   education             1913 non-null   object\n",
      " 8   has_children          1913 non-null   int64 \n",
      " 9   occupation            1913 non-null   object\n",
      " 10  age                   1913 non-null   int64 \n",
      " 11  gender                1913 non-null   object\n",
      " 12  expiration            1913 non-null   object\n",
      " 13  coupon                1913 non-null   object\n",
      " 14  time                  1913 non-null   object\n",
      " 15  temperature           1913 non-null   int64 \n",
      " 16  weather               1913 non-null   object\n",
      " 17  passanger             1913 non-null   object\n",
      " 18  maritalStatus         1913 non-null   object\n",
      " 19  Y                     1913 non-null   int64 \n",
      " 20  Bar                   1913 non-null   int64 \n",
      " 21  RestaurantLessThan20  1913 non-null   object\n",
      " 22  CarryAway             1913 non-null   object\n",
      " 23  Restaurant20To50      1913 non-null   object\n",
      " 24  CoffeeHouse           1913 non-null   object\n",
      "dtypes: int64(10), object(15)\n",
      "memory usage: 388.6+ KB\n"
     ]
    }
   ],
   "source": [
    "H.info()"
   ]
  },
  {
   "cell_type": "code",
   "execution_count": 190,
   "metadata": {},
   "outputs": [
    {
     "name": "stdout",
     "output_type": "stream",
     "text": [
      "The percent of people who accepted the coupon and visited the bar more than 1 times and are over the age of 25 is 35.28 %\n",
      "The percent of people who accepted the coupon and visited the bar less than 1 times and are over the age of 25 is 35.03 %\n",
      "The percent of people who accepted the coupon and visited the bar more than 1 times and are under the age of 25 is 14.47 %\n",
      "The percent of people who accepted the coupon and visited the bar less than 1 times and less than the age of 25 is 15.23 %\n"
     ]
    }
   ],
   "source": [
    "#Determining the number of people who went to a bar more than once a month and over the age of 25 who accepted the coupon \n",
    "\n",
    "Greater_than_1_over25_accepted = H.loc[(H['Bar']> 1) & (H['age']> 25),'Y'].sum()\n",
    "\n",
    "#Determining the number of people who went to a bar less than once a month and over the age of 25 who accepted the coupon \n",
    "\n",
    "Less_than_1_over25_accepted = H.loc[(H['Bar']<= 1) & (H['age']> 25),'Y'].sum()\n",
    "\n",
    "#Determining the number of people who went to a bar more than once a month and under the age of 25 who accepted the coupon \n",
    "\n",
    "Greater_than_1_less25_accepted = H.loc[(H['Bar']> 1) & (H['age']< 25),'Y'].sum()\n",
    "\n",
    "#Determining the number of people who went to a bar less than once a month and under the age of 25 who accepted the coupon \n",
    "\n",
    "Lesser_than_1_less25_accepted = H.loc[(H['Bar']<= 1) & (H['age']< 25),'Y'].sum()\n",
    "\n",
    "#Total number of accepted coupons\n",
    "Total_accepted2 = H.loc[H['Bar']<= 9,'Y'].sum()\n",
    "\n",
    "# calculating percentages\n",
    "\n",
    "Percentage_Greater_than_1_over25_accepted = round(((Greater_than_1_over25_accepted/ Total_accepted2)*100),2)\n",
    "Percentage_Less_than_1_over25_accepted = round(((Less_than_1_over25_accepted /Total_accepted2)*100),2)\n",
    "Percentage_Greater_than_1_less25_accepted = round(((Greater_than_1_less25_accepted / Total_accepted2)*100),2)\n",
    "Percentage_Lesser_than_1_less25_accepted = round(((Lesser_than_1_less25_accepted/Total_accepted2)*100),2)\n",
    "\n",
    "print(\"The percent of people who accepted the coupon and visited the bar more than 1 times and are over the age of 25 is\",Percentage_Greater_than_1_over25_accepted,\"%\")\n",
    "\n",
    "print(\"The percent of people who accepted the coupon and visited the bar less than 1 times and are over the age of 25 is\",Percentage_Less_than_1_over25_accepted,\"%\")\n",
    "\n",
    "print(\"The percent of people who accepted the coupon and visited the bar more than 1 times and are under the age of 25 is\",Percentage_Greater_than_1_less25_accepted,\"%\")\n",
    "\n",
    "print(\"The percent of people who accepted the coupon and visited the bar less than 1 times and less than the age of 25 is\",Percentage_Lesser_than_1_less25_accepted,\"%\")"
   ]
  },
  {
   "cell_type": "markdown",
   "metadata": {},
   "source": [
    "5. Use the same process to compare the acceptance rate between drivers who go to bars more than once a month and had passengers that were not a kid and had occupations other than farming, fishing, or forestry."
   ]
  },
  {
   "cell_type": "code",
   "execution_count": 69,
   "metadata": {},
   "outputs": [],
   "source": [
    "I = A.query(\"coupon == 'Bar'\")"
   ]
  },
  {
   "cell_type": "code",
   "execution_count": 70,
   "metadata": {},
   "outputs": [
    {
     "name": "stderr",
     "output_type": "stream",
     "text": [
      "C:\\Users\\amrin\\AppData\\Local\\Temp\\ipykernel_12756\\4195946558.py:1: SettingWithCopyWarning: \n",
      "A value is trying to be set on a copy of a slice from a DataFrame\n",
      "\n",
      "See the caveats in the documentation: https://pandas.pydata.org/pandas-docs/stable/user_guide/indexing.html#returning-a-view-versus-a-copy\n",
      "  I['Bar'].mask(I['Bar']==\"never\",'0',inplace=True)\n",
      "C:\\Users\\amrin\\AppData\\Local\\Temp\\ipykernel_12756\\4195946558.py:2: SettingWithCopyWarning: \n",
      "A value is trying to be set on a copy of a slice from a DataFrame\n",
      "\n",
      "See the caveats in the documentation: https://pandas.pydata.org/pandas-docs/stable/user_guide/indexing.html#returning-a-view-versus-a-copy\n",
      "  I['Bar'].mask(I['Bar']==\"less1\",'1',inplace=True)\n",
      "C:\\Users\\amrin\\AppData\\Local\\Temp\\ipykernel_12756\\4195946558.py:3: SettingWithCopyWarning: \n",
      "A value is trying to be set on a copy of a slice from a DataFrame\n",
      "\n",
      "See the caveats in the documentation: https://pandas.pydata.org/pandas-docs/stable/user_guide/indexing.html#returning-a-view-versus-a-copy\n",
      "  I['Bar'].mask(I['Bar']==\"1~3\",'3',inplace=True)\n",
      "C:\\Users\\amrin\\AppData\\Local\\Temp\\ipykernel_12756\\4195946558.py:4: SettingWithCopyWarning: \n",
      "A value is trying to be set on a copy of a slice from a DataFrame\n",
      "\n",
      "See the caveats in the documentation: https://pandas.pydata.org/pandas-docs/stable/user_guide/indexing.html#returning-a-view-versus-a-copy\n",
      "  I['Bar'].mask(I['Bar']==\"4~8\",'8',inplace=True)\n",
      "C:\\Users\\amrin\\AppData\\Local\\Temp\\ipykernel_12756\\4195946558.py:5: SettingWithCopyWarning: \n",
      "A value is trying to be set on a copy of a slice from a DataFrame\n",
      "\n",
      "See the caveats in the documentation: https://pandas.pydata.org/pandas-docs/stable/user_guide/indexing.html#returning-a-view-versus-a-copy\n",
      "  I['Bar'].mask(I['Bar']==\"gt8\",'9',inplace=True)\n",
      "C:\\Users\\amrin\\AppData\\Local\\Temp\\ipykernel_12756\\4195946558.py:6: SettingWithCopyWarning: \n",
      "A value is trying to be set on a copy of a slice from a DataFrame\n",
      "\n",
      "See the caveats in the documentation: https://pandas.pydata.org/pandas-docs/stable/user_guide/indexing.html#returning-a-view-versus-a-copy\n",
      "  I['age'].mask(I['age']==\"50plus\",'51',inplace=True)\n",
      "C:\\Users\\amrin\\AppData\\Local\\Temp\\ipykernel_12756\\4195946558.py:7: SettingWithCopyWarning: \n",
      "A value is trying to be set on a copy of a slice from a DataFrame\n",
      "\n",
      "See the caveats in the documentation: https://pandas.pydata.org/pandas-docs/stable/user_guide/indexing.html#returning-a-view-versus-a-copy\n",
      "  I['age'].mask(I['age']==\"below21\",'20',inplace=True)\n",
      "C:\\Users\\amrin\\AppData\\Local\\Temp\\ipykernel_12756\\4195946558.py:8: SettingWithCopyWarning: \n",
      "A value is trying to be set on a copy of a slice from a DataFrame.\n",
      "Try using .loc[row_indexer,col_indexer] = value instead\n",
      "\n",
      "See the caveats in the documentation: https://pandas.pydata.org/pandas-docs/stable/user_guide/indexing.html#returning-a-view-versus-a-copy\n",
      "  I['age']=pd.to_numeric(I['age'])\n",
      "C:\\Users\\amrin\\AppData\\Local\\Temp\\ipykernel_12756\\4195946558.py:9: SettingWithCopyWarning: \n",
      "A value is trying to be set on a copy of a slice from a DataFrame.\n",
      "Try using .loc[row_indexer,col_indexer] = value instead\n",
      "\n",
      "See the caveats in the documentation: https://pandas.pydata.org/pandas-docs/stable/user_guide/indexing.html#returning-a-view-versus-a-copy\n",
      "  I['Bar']=pd.to_numeric(I['Bar'])\n"
     ]
    }
   ],
   "source": [
    "#processing the data so that the following occurs, never = 0, less than 1 = 1, 1~3 = 3, 4~8 =8, gt8=9\n",
    "I['Bar'].mask(I['Bar']==\"never\",'0',inplace=True)\n",
    "I['Bar'].mask(I['Bar']==\"less1\",'1',inplace=True)\n",
    "I['Bar'].mask(I['Bar']==\"1~3\",'3',inplace=True)\n",
    "I['Bar'].mask(I['Bar']==\"4~8\",'8',inplace=True)\n",
    "I['Bar'].mask(I['Bar']==\"gt8\",'9',inplace=True)\n",
    "I['age'].mask(I['age']==\"50plus\",'51',inplace=True)\n",
    "I['age'].mask(I['age']==\"below21\",'20',inplace=True)\n",
    "I['age']=pd.to_numeric(I['age'])\n",
    "I['Bar']=pd.to_numeric(I['Bar'])"
   ]
  },
  {
   "cell_type": "code",
   "execution_count": 191,
   "metadata": {},
   "outputs": [
    {
     "name": "stdout",
     "output_type": "stream",
     "text": [
      "The percent of people who accepted the coupon and had occupation other than farming fishing, or forestry 99.49 %\n",
      "The percent of people who accepted the coupon and had passengers other than kids 94.9239 %\n",
      "The percent of people who accepted the coupon and visited the bar more than 1 times  49.75 %\n"
     ]
    }
   ],
   "source": [
    "#5. Use the same process to compare the acceptance rate between drivers who go to bars more than once a month \n",
    "#and had passengers that were not a kid \n",
    "#and had occupations other than farming, fishing, or forestry.\n",
    "\n",
    "K= I[['occupation','passanger', 'Bar', 'Y']]\n",
    "\n",
    "# Determining the number of people who had an occupation other than Farming, fishing and forestry who accepted the coupon \n",
    "\n",
    "Occ_other_than_famring = K.loc[(K['occupation'].str.contains('Farming Fishing & Forestry')==False),'Y'].sum()\n",
    "\n",
    "# Determining the number of people who had a passenger who was not a kid who accepted the coupon  \n",
    "\n",
    "Passenger_other_than_kids = K.loc[(K['passanger'].str.contains('Kid')==False),'Y'].sum()\n",
    "\n",
    "#Determining the number of people who went to a bar more than once a month and accepted the coupon \n",
    "\n",
    "Greater_than_1 = K.loc[(K['Bar']> 1),'Y'].sum()\n",
    "\n",
    "# Total accepted coupons\n",
    "\n",
    "Total_accepted3 = K.loc[K['Bar']<= 9,'Y'].sum()\n",
    "\n",
    "#Determining percentages\n",
    "\n",
    "Percent_Occ_other_than_famring = round(((Occ_other_than_famring/Total_accepted3)*100),2)\n",
    "\n",
    "Percent_Passenger_other_than_kids = round(((Passenger_other_than_kids/Total_accepted3)*100),4)\n",
    "\n",
    "Percent_Greater_than_1 = round(((Greater_than_1/Total_accepted3)*100),2)\n",
    "\n",
    "print(\"The percent of people who accepted the coupon and had occupation other than farming fishing, or forestry\",Percent_Occ_other_than_famring,\"%\")\n",
    "\n",
    "print(\"The percent of people who accepted the coupon and had passengers other than kids\",Percent_Passenger_other_than_kids,\"%\")\n",
    "\n",
    "print(\"The percent of people who accepted the coupon and visited the bar more than 1 times \",Percent_Greater_than_1,\"%\")\n"
   ]
  },
  {
   "cell_type": "code",
   "execution_count": null,
   "metadata": {},
   "outputs": [],
   "source": [
    "# In conclusion targeting people who were not driving with kids is the best audience."
   ]
  },
  {
   "cell_type": "markdown",
   "metadata": {},
   "source": [
    "6. Compare the acceptance rates between those drivers who:\n",
    "\n",
    "- go to bars more than once a month, had passengers that were not a kid, and were not widowed *OR*\n",
    "- go to bars more than once a month and are under the age of 30 *OR*\n",
    "- go to cheap restaurants more than 4 times a month and income is less than 50K. \n",
    "\n"
   ]
  },
  {
   "cell_type": "code",
   "execution_count": 300,
   "metadata": {},
   "outputs": [],
   "source": [
    "Z = A.query(\"coupon == 'Bar'\")"
   ]
  },
  {
   "cell_type": "code",
   "execution_count": 301,
   "metadata": {},
   "outputs": [],
   "source": [
    "#Creating a new dataframe to have columns that are needed\n",
    "L=Z[['maritalStatus','passanger', 'Bar','age','RestaurantLessThan20','income','Y']]"
   ]
  },
  {
   "cell_type": "code",
   "execution_count": 302,
   "metadata": {},
   "outputs": [
    {
     "name": "stderr",
     "output_type": "stream",
     "text": [
      "C:\\Users\\amrin\\AppData\\Local\\Temp\\ipykernel_12756\\649465241.py:2: SettingWithCopyWarning: \n",
      "A value is trying to be set on a copy of a slice from a DataFrame\n",
      "\n",
      "See the caveats in the documentation: https://pandas.pydata.org/pandas-docs/stable/user_guide/indexing.html#returning-a-view-versus-a-copy\n",
      "  L['age'].mask(L['age']==\"50plus\",'51',inplace=True)\n",
      "C:\\Users\\amrin\\AppData\\Local\\Temp\\ipykernel_12756\\649465241.py:3: SettingWithCopyWarning: \n",
      "A value is trying to be set on a copy of a slice from a DataFrame\n",
      "\n",
      "See the caveats in the documentation: https://pandas.pydata.org/pandas-docs/stable/user_guide/indexing.html#returning-a-view-versus-a-copy\n",
      "  L['age'].mask(L['age']==\"below21\",'20',inplace=True)\n",
      "C:\\Users\\amrin\\AppData\\Local\\Temp\\ipykernel_12756\\649465241.py:4: SettingWithCopyWarning: \n",
      "A value is trying to be set on a copy of a slice from a DataFrame\n",
      "\n",
      "See the caveats in the documentation: https://pandas.pydata.org/pandas-docs/stable/user_guide/indexing.html#returning-a-view-versus-a-copy\n",
      "  L['income'].mask(L['income']==\"$25000 - $37499\",'37499',inplace=True)\n",
      "C:\\Users\\amrin\\AppData\\Local\\Temp\\ipykernel_12756\\649465241.py:5: SettingWithCopyWarning: \n",
      "A value is trying to be set on a copy of a slice from a DataFrame\n",
      "\n",
      "See the caveats in the documentation: https://pandas.pydata.org/pandas-docs/stable/user_guide/indexing.html#returning-a-view-versus-a-copy\n",
      "  L['income'].mask(L['income']==\"$12500 - $24999\",'24999',inplace=True)\n",
      "C:\\Users\\amrin\\AppData\\Local\\Temp\\ipykernel_12756\\649465241.py:6: SettingWithCopyWarning: \n",
      "A value is trying to be set on a copy of a slice from a DataFrame\n",
      "\n",
      "See the caveats in the documentation: https://pandas.pydata.org/pandas-docs/stable/user_guide/indexing.html#returning-a-view-versus-a-copy\n",
      "  L['income'].mask(L['income']==\"$100000 or More\",'100000',inplace=True)\n",
      "C:\\Users\\amrin\\AppData\\Local\\Temp\\ipykernel_12756\\649465241.py:7: SettingWithCopyWarning: \n",
      "A value is trying to be set on a copy of a slice from a DataFrame\n",
      "\n",
      "See the caveats in the documentation: https://pandas.pydata.org/pandas-docs/stable/user_guide/indexing.html#returning-a-view-versus-a-copy\n",
      "  L['income'].mask(L['income']==\"$37500 - $49999\",'49999',inplace=True)\n",
      "C:\\Users\\amrin\\AppData\\Local\\Temp\\ipykernel_12756\\649465241.py:8: SettingWithCopyWarning: \n",
      "A value is trying to be set on a copy of a slice from a DataFrame\n",
      "\n",
      "See the caveats in the documentation: https://pandas.pydata.org/pandas-docs/stable/user_guide/indexing.html#returning-a-view-versus-a-copy\n",
      "  L['income'].mask(L['income']==\"$50000 - $62499\",'62499',inplace=True)\n",
      "C:\\Users\\amrin\\AppData\\Local\\Temp\\ipykernel_12756\\649465241.py:9: SettingWithCopyWarning: \n",
      "A value is trying to be set on a copy of a slice from a DataFrame\n",
      "\n",
      "See the caveats in the documentation: https://pandas.pydata.org/pandas-docs/stable/user_guide/indexing.html#returning-a-view-versus-a-copy\n",
      "  L['income'].mask(L['income']==\"Less than $12500\",'12500',inplace=True)\n",
      "C:\\Users\\amrin\\AppData\\Local\\Temp\\ipykernel_12756\\649465241.py:10: SettingWithCopyWarning: \n",
      "A value is trying to be set on a copy of a slice from a DataFrame\n",
      "\n",
      "See the caveats in the documentation: https://pandas.pydata.org/pandas-docs/stable/user_guide/indexing.html#returning-a-view-versus-a-copy\n",
      "  L['income'].mask(L['income']==\"$62500 - $74999\",'74999',inplace=True)\n",
      "C:\\Users\\amrin\\AppData\\Local\\Temp\\ipykernel_12756\\649465241.py:11: SettingWithCopyWarning: \n",
      "A value is trying to be set on a copy of a slice from a DataFrame\n",
      "\n",
      "See the caveats in the documentation: https://pandas.pydata.org/pandas-docs/stable/user_guide/indexing.html#returning-a-view-versus-a-copy\n",
      "  L['income'].mask(L['income']==\"$87500 - $99999\",'99999',inplace=True)\n",
      "C:\\Users\\amrin\\AppData\\Local\\Temp\\ipykernel_12756\\649465241.py:12: SettingWithCopyWarning: \n",
      "A value is trying to be set on a copy of a slice from a DataFrame\n",
      "\n",
      "See the caveats in the documentation: https://pandas.pydata.org/pandas-docs/stable/user_guide/indexing.html#returning-a-view-versus-a-copy\n",
      "  L['income'].mask(L['income']==\"$75000 - $87499\",'87499',inplace=True)\n",
      "C:\\Users\\amrin\\AppData\\Local\\Temp\\ipykernel_12756\\649465241.py:13: SettingWithCopyWarning: \n",
      "A value is trying to be set on a copy of a slice from a DataFrame.\n",
      "Try using .loc[row_indexer,col_indexer] = value instead\n",
      "\n",
      "See the caveats in the documentation: https://pandas.pydata.org/pandas-docs/stable/user_guide/indexing.html#returning-a-view-versus-a-copy\n",
      "  L['income']=pd.to_numeric(L['income'])\n",
      "C:\\Users\\amrin\\AppData\\Local\\Temp\\ipykernel_12756\\649465241.py:14: SettingWithCopyWarning: \n",
      "A value is trying to be set on a copy of a slice from a DataFrame.\n",
      "Try using .loc[row_indexer,col_indexer] = value instead\n",
      "\n",
      "See the caveats in the documentation: https://pandas.pydata.org/pandas-docs/stable/user_guide/indexing.html#returning-a-view-versus-a-copy\n",
      "  L['age']=pd.to_numeric(L['age'])\n"
     ]
    }
   ],
   "source": [
    "#Preprocessing age data, since the column data is in mixed format\n",
    "L['age'].mask(L['age']==\"50plus\",'51',inplace=True)\n",
    "L['age'].mask(L['age']==\"below21\",'20',inplace=True)\n",
    "L['income'].mask(L['income']==\"$25000 - $37499\",'37499',inplace=True)\n",
    "L['income'].mask(L['income']==\"$12500 - $24999\",'24999',inplace=True)\n",
    "L['income'].mask(L['income']==\"$100000 or More\",'100000',inplace=True)\n",
    "L['income'].mask(L['income']==\"$37500 - $49999\",'49999',inplace=True)\n",
    "L['income'].mask(L['income']==\"$50000 - $62499\",'62499',inplace=True)\n",
    "L['income'].mask(L['income']==\"Less than $12500\",'12500',inplace=True)\n",
    "L['income'].mask(L['income']==\"$62500 - $74999\",'74999',inplace=True)\n",
    "L['income'].mask(L['income']==\"$87500 - $99999\",'99999',inplace=True)\n",
    "L['income'].mask(L['income']==\"$75000 - $87499\",'87499',inplace=True)\n",
    "L['income']=pd.to_numeric(L['income'])\n",
    "L['age']=pd.to_numeric(L['age'])"
   ]
  },
  {
   "cell_type": "code",
   "execution_count": 303,
   "metadata": {},
   "outputs": [
    {
     "data": {
      "text/plain": [
       "12"
      ]
     },
     "execution_count": 303,
     "metadata": {},
     "output_type": "execute_result"
    }
   ],
   "source": [
    "#Determining people who go to bars more than once a month, had passengers that were not a kid, and were not widowed\n",
    "Scen1 = L.loc[(L['passanger'].str.contains('Kid') & L['maritalStatus'].str.contains('Married partner') & \n",
    "      L['Bar'].str.contains('1~3|4~8|gt8')),'Y'].sum()\n",
    "Scen1"
   ]
  },
  {
   "cell_type": "code",
   "execution_count": 304,
   "metadata": {},
   "outputs": [
    {
     "data": {
      "text/plain": [
       "236"
      ]
     },
     "execution_count": 304,
     "metadata": {},
     "output_type": "execute_result"
    }
   ],
   "source": [
    "# Determining people who go to bars more than once a month and are under the age of 30\n",
    "Scen2=L.loc[((L['age'] < 30) & (L['Bar'].str.contains('1~3|4~8|gt8'))),'Y'].sum()\n",
    "Scen2"
   ]
  },
  {
   "cell_type": "code",
   "execution_count": 305,
   "metadata": {},
   "outputs": [
    {
     "data": {
      "text/plain": [
       "152"
      ]
     },
     "execution_count": 305,
     "metadata": {},
     "output_type": "execute_result"
    }
   ],
   "source": [
    "# Determining people who go to cheap restaurants more than 4 times a month and income is less than 50K\n",
    "Scen3= L.loc[((L['income'] < 50000) & (L['RestaurantLessThan20'].str.contains('4~8|gt8'))),'Y'].sum()\n",
    "Scen3"
   ]
  },
  {
   "cell_type": "code",
   "execution_count": 306,
   "metadata": {},
   "outputs": [
    {
     "data": {
      "text/plain": [
       "788"
      ]
     },
     "execution_count": 306,
     "metadata": {},
     "output_type": "execute_result"
    }
   ],
   "source": [
    "#Determining the total number of accepted coupons\n",
    "Accepted_Total= L['Y'].sum()\n",
    "Accepted_Total"
   ]
  },
  {
   "cell_type": "code",
   "execution_count": 307,
   "metadata": {},
   "outputs": [
    {
     "name": "stdout",
     "output_type": "stream",
     "text": [
      "The percent of people who accepted the coupon and who go to bars more than once a month, had passengers that were not a kid, and were not widowed 1.52 %\n",
      "The percent of people who accepted the coupon and who go to bars more than once a month and are under the age of 30 29.95 %\n",
      "The percent of people who accepted the coupon and who go to cheap restaurants more than 4 times a month and income is less than 50K 19.29 %\n"
     ]
    }
   ],
   "source": [
    "Percentage_Scen1= round(((Scen1/Accepted_Total)*100),2)\n",
    "Percentage_Scen2= round(((Scen2/Accepted_Total)*100),2)\n",
    "Percentage_Scen3= round(((Scen3/Accepted_Total)*100),2)\n",
    "\n",
    "print(\"The percent of people who accepted the coupon and who go to bars more than once a month, had passengers that were not a kid, and were not widowed\",Percentage_Scen1,\"%\")\n",
    "\n",
    "print(\"The percent of people who accepted the coupon and who go to bars more than once a month and are under the age of 30\",Percentage_Scen2,\"%\")\n",
    "\n",
    "print(\"The percent of people who accepted the coupon and who go to cheap restaurants more than 4 times a month and income is less than 50K\",Percentage_Scen3,\"%\")"
   ]
  },
  {
   "cell_type": "markdown",
   "metadata": {},
   "source": [
    "7.  Based on these observations, what do you hypothesize about drivers who accepted the bar coupons?"
   ]
  },
  {
   "cell_type": "code",
   "execution_count": 308,
   "metadata": {},
   "outputs": [],
   "source": [
    "#Based on the analysis above we see the following:\n",
    "# a) the best acceptance ratio is of those who went to bars more than once and are under the age of 30, at 29.95%\n",
    "# b) people who go to cheap restaurants and make less than 50k are a close second in terms of acceptance of bar coupons and worth targeting, at 19.29%\n",
    "# c) People who visit the bar more than once are worth targeting as they have a conversion rate of 49.75%\n",
    "# d) The people who visited the mare more than once and over the age of 25 have the acceptance rate of coupons are 35.28%\n",
    "# e) The people who visited less than 3 times have a higher acceptance rate than those that visited less than 3 times.\n",
    "# f) People who have kids as passengers are not a worthy target for bar coupons\n",
    "# g) People who are in Farming, fishing or forestry are not worth targeting for coupons due to low conversion rate\n",
    "# h) People who go to bars more than once a month, had passengers that was not a kid and were not widowed should be targeted as they have an extremely low conversion rate of 1.22%\n",
    "# i) People who visit the bar less than once and are under 25 are also not a good category to target as their acceptance is 15.23% only. \n"
   ]
  },
  {
   "cell_type": "markdown",
   "metadata": {},
   "source": [
    "### Independent Investigation\n",
    "\n",
    "Using the bar coupon example as motivation, you are to explore one of the other coupon groups and try to determine the characteristics of passengers who accept the coupons.  "
   ]
  },
  {
   "cell_type": "code",
   "execution_count": null,
   "metadata": {},
   "outputs": [],
   "source": [
    "#Investigating what groups visit a coffee house. "
   ]
  },
  {
   "cell_type": "code",
   "execution_count": 312,
   "metadata": {},
   "outputs": [],
   "source": [
    "P = A.query(\"coupon == 'Coffee House'\")"
   ]
  },
  {
   "cell_type": "code",
   "execution_count": 338,
   "metadata": {},
   "outputs": [
    {
     "name": "stdout",
     "output_type": "stream",
     "text": [
      "<class 'pandas.core.frame.DataFrame'>\n",
      "Int64Index: 3816 entries, 23 to 12681\n",
      "Data columns (total 25 columns):\n",
      " #   Column                Non-Null Count  Dtype \n",
      "---  ------                --------------  ----- \n",
      " 0   destination           3816 non-null   object\n",
      " 1   direction_same        3816 non-null   int64 \n",
      " 2   toCoupon_GEQ25min     3816 non-null   int64 \n",
      " 3   toCoupon_GEQ15min     3816 non-null   int64 \n",
      " 4   toCoupon_GEQ5min      3816 non-null   int64 \n",
      " 5   income                3816 non-null   object\n",
      " 6   direction_opp         3816 non-null   int64 \n",
      " 7   education             3816 non-null   object\n",
      " 8   has_children          3816 non-null   int64 \n",
      " 9   occupation            3816 non-null   object\n",
      " 10  age                   3816 non-null   object\n",
      " 11  gender                3816 non-null   object\n",
      " 12  expiration            3816 non-null   object\n",
      " 13  coupon                3816 non-null   object\n",
      " 14  time                  3816 non-null   object\n",
      " 15  temperature           3816 non-null   int64 \n",
      " 16  weather               3816 non-null   object\n",
      " 17  passanger             3816 non-null   object\n",
      " 18  maritalStatus         3816 non-null   object\n",
      " 19  Y                     3816 non-null   int64 \n",
      " 20  Bar                   3816 non-null   object\n",
      " 21  RestaurantLessThan20  3816 non-null   object\n",
      " 22  CarryAway             3816 non-null   object\n",
      " 23  Restaurant20To50      3816 non-null   object\n",
      " 24  CoffeeHouse           3816 non-null   object\n",
      "dtypes: int64(8), object(17)\n",
      "memory usage: 775.1+ KB\n"
     ]
    }
   ],
   "source": [
    "P.info()"
   ]
  },
  {
   "cell_type": "code",
   "execution_count": 341,
   "metadata": {},
   "outputs": [],
   "source": [
    "N = P[['maritalStatus','passanger', 'CoffeeHouse','income','weather','time','temperature'\n",
    "        ,'expiration','gender','age','Y']]"
   ]
  },
  {
   "cell_type": "code",
   "execution_count": 347,
   "metadata": {},
   "outputs": [
    {
     "name": "stderr",
     "output_type": "stream",
     "text": [
      "C:\\Users\\amrin\\AppData\\Local\\Temp\\ipykernel_12756\\310009860.py:1: SettingWithCopyWarning: \n",
      "A value is trying to be set on a copy of a slice from a DataFrame\n",
      "\n",
      "See the caveats in the documentation: https://pandas.pydata.org/pandas-docs/stable/user_guide/indexing.html#returning-a-view-versus-a-copy\n",
      "  N['age'].mask(N['age']==\"50plus\",'51',inplace=True)\n",
      "C:\\Users\\amrin\\AppData\\Local\\Temp\\ipykernel_12756\\310009860.py:2: SettingWithCopyWarning: \n",
      "A value is trying to be set on a copy of a slice from a DataFrame\n",
      "\n",
      "See the caveats in the documentation: https://pandas.pydata.org/pandas-docs/stable/user_guide/indexing.html#returning-a-view-versus-a-copy\n",
      "  N['age'].mask(N['age']==\"below21\",'20',inplace=True)\n",
      "C:\\Users\\amrin\\AppData\\Local\\Temp\\ipykernel_12756\\310009860.py:3: SettingWithCopyWarning: \n",
      "A value is trying to be set on a copy of a slice from a DataFrame\n",
      "\n",
      "See the caveats in the documentation: https://pandas.pydata.org/pandas-docs/stable/user_guide/indexing.html#returning-a-view-versus-a-copy\n",
      "  N['income'].mask(N['income']==\"$25000 - $37499\",'37499',inplace=True)\n",
      "C:\\Users\\amrin\\AppData\\Local\\Temp\\ipykernel_12756\\310009860.py:4: SettingWithCopyWarning: \n",
      "A value is trying to be set on a copy of a slice from a DataFrame\n",
      "\n",
      "See the caveats in the documentation: https://pandas.pydata.org/pandas-docs/stable/user_guide/indexing.html#returning-a-view-versus-a-copy\n",
      "  N['income'].mask(N['income']==\"$12500 - $24999\",'24999',inplace=True)\n",
      "C:\\Users\\amrin\\AppData\\Local\\Temp\\ipykernel_12756\\310009860.py:5: SettingWithCopyWarning: \n",
      "A value is trying to be set on a copy of a slice from a DataFrame\n",
      "\n",
      "See the caveats in the documentation: https://pandas.pydata.org/pandas-docs/stable/user_guide/indexing.html#returning-a-view-versus-a-copy\n",
      "  N['income'].mask(N['income']==\"$100000 or More\",'100000',inplace=True)\n",
      "C:\\Users\\amrin\\AppData\\Local\\Temp\\ipykernel_12756\\310009860.py:6: SettingWithCopyWarning: \n",
      "A value is trying to be set on a copy of a slice from a DataFrame\n",
      "\n",
      "See the caveats in the documentation: https://pandas.pydata.org/pandas-docs/stable/user_guide/indexing.html#returning-a-view-versus-a-copy\n",
      "  N['income'].mask(N['income']==\"$37500 - $49999\",'49999',inplace=True)\n",
      "C:\\Users\\amrin\\AppData\\Local\\Temp\\ipykernel_12756\\310009860.py:7: SettingWithCopyWarning: \n",
      "A value is trying to be set on a copy of a slice from a DataFrame\n",
      "\n",
      "See the caveats in the documentation: https://pandas.pydata.org/pandas-docs/stable/user_guide/indexing.html#returning-a-view-versus-a-copy\n",
      "  N['income'].mask(N['income']==\"$50000 - $62499\",'62499',inplace=True)\n",
      "C:\\Users\\amrin\\AppData\\Local\\Temp\\ipykernel_12756\\310009860.py:8: SettingWithCopyWarning: \n",
      "A value is trying to be set on a copy of a slice from a DataFrame\n",
      "\n",
      "See the caveats in the documentation: https://pandas.pydata.org/pandas-docs/stable/user_guide/indexing.html#returning-a-view-versus-a-copy\n",
      "  N['income'].mask(N['income']==\"Less than $12500\",'12500',inplace=True)\n",
      "C:\\Users\\amrin\\AppData\\Local\\Temp\\ipykernel_12756\\310009860.py:9: SettingWithCopyWarning: \n",
      "A value is trying to be set on a copy of a slice from a DataFrame\n",
      "\n",
      "See the caveats in the documentation: https://pandas.pydata.org/pandas-docs/stable/user_guide/indexing.html#returning-a-view-versus-a-copy\n",
      "  N['income'].mask(N['income']==\"$62500 - $74999\",'74999',inplace=True)\n",
      "C:\\Users\\amrin\\AppData\\Local\\Temp\\ipykernel_12756\\310009860.py:10: SettingWithCopyWarning: \n",
      "A value is trying to be set on a copy of a slice from a DataFrame\n",
      "\n",
      "See the caveats in the documentation: https://pandas.pydata.org/pandas-docs/stable/user_guide/indexing.html#returning-a-view-versus-a-copy\n",
      "  N['income'].mask(N['income']==\"$87500 - $99999\",'99999',inplace=True)\n",
      "C:\\Users\\amrin\\AppData\\Local\\Temp\\ipykernel_12756\\310009860.py:11: SettingWithCopyWarning: \n",
      "A value is trying to be set on a copy of a slice from a DataFrame\n",
      "\n",
      "See the caveats in the documentation: https://pandas.pydata.org/pandas-docs/stable/user_guide/indexing.html#returning-a-view-versus-a-copy\n",
      "  N['income'].mask(N['income']==\"$75000 - $87499\",'87499',inplace=True)\n",
      "C:\\Users\\amrin\\AppData\\Local\\Temp\\ipykernel_12756\\310009860.py:12: SettingWithCopyWarning: \n",
      "A value is trying to be set on a copy of a slice from a DataFrame.\n",
      "Try using .loc[row_indexer,col_indexer] = value instead\n",
      "\n",
      "See the caveats in the documentation: https://pandas.pydata.org/pandas-docs/stable/user_guide/indexing.html#returning-a-view-versus-a-copy\n",
      "  N['income']=pd.to_numeric(N['income'])\n",
      "C:\\Users\\amrin\\AppData\\Local\\Temp\\ipykernel_12756\\310009860.py:13: SettingWithCopyWarning: \n",
      "A value is trying to be set on a copy of a slice from a DataFrame.\n",
      "Try using .loc[row_indexer,col_indexer] = value instead\n",
      "\n",
      "See the caveats in the documentation: https://pandas.pydata.org/pandas-docs/stable/user_guide/indexing.html#returning-a-view-versus-a-copy\n",
      "  N['age']=pd.to_numeric(N['age'])\n"
     ]
    }
   ],
   "source": [
    "N['age'].mask(N['age']==\"50plus\",'51',inplace=True)\n",
    "N['age'].mask(N['age']==\"below21\",'20',inplace=True)\n",
    "N['income'].mask(N['income']==\"$25000 - $37499\",'37499',inplace=True)\n",
    "N['income'].mask(N['income']==\"$12500 - $24999\",'24999',inplace=True)\n",
    "N['income'].mask(N['income']==\"$100000 or More\",'100000',inplace=True)\n",
    "N['income'].mask(N['income']==\"$37500 - $49999\",'49999',inplace=True)\n",
    "N['income'].mask(N['income']==\"$50000 - $62499\",'62499',inplace=True)\n",
    "N['income'].mask(N['income']==\"Less than $12500\",'12500',inplace=True)\n",
    "N['income'].mask(N['income']==\"$62500 - $74999\",'74999',inplace=True)\n",
    "N['income'].mask(N['income']==\"$87500 - $99999\",'99999',inplace=True)\n",
    "N['income'].mask(N['income']==\"$75000 - $87499\",'87499',inplace=True)\n",
    "N['income']=pd.to_numeric(N['income'])\n",
    "N['age']=pd.to_numeric(N['age'])"
   ]
  },
  {
   "cell_type": "code",
   "execution_count": 330,
   "metadata": {},
   "outputs": [
    {
     "data": {
      "text/plain": [
       "less1    1052\n",
       "1~3      1019\n",
       "never     896\n",
       "4~8       507\n",
       "gt8       342\n",
       "Name: CoffeeHouse, dtype: int64"
      ]
     },
     "execution_count": 330,
     "metadata": {},
     "output_type": "execute_result"
    }
   ],
   "source": [
    "N['CoffeeHouse'].value_counts()"
   ]
  },
  {
   "cell_type": "code",
   "execution_count": 331,
   "metadata": {},
   "outputs": [
    {
     "data": {
      "text/plain": [
       "Sunny    3316\n",
       "Snowy     285\n",
       "Rainy     215\n",
       "Name: weather, dtype: int64"
      ]
     },
     "execution_count": 331,
     "metadata": {},
     "output_type": "execute_result"
    }
   ],
   "source": [
    "N['weather'].value_counts()"
   ]
  },
  {
   "cell_type": "code",
   "execution_count": 332,
   "metadata": {},
   "outputs": [
    {
     "data": {
      "text/plain": [
       "6PM     1043\n",
       "7AM      875\n",
       "10AM     857\n",
       "2PM      759\n",
       "10PM     282\n",
       "Name: time, dtype: int64"
      ]
     },
     "execution_count": 332,
     "metadata": {},
     "output_type": "execute_result"
    }
   ],
   "source": [
    "N['time'].value_counts()"
   ]
  },
  {
   "cell_type": "code",
   "execution_count": 348,
   "metadata": {},
   "outputs": [
    {
     "data": {
      "text/plain": [
       "37499     617\n",
       "24999     565\n",
       "49999     559\n",
       "100000    525\n",
       "62499     512\n",
       "12500     298\n",
       "74999     271\n",
       "99999     241\n",
       "87499     228\n",
       "Name: income, dtype: int64"
      ]
     },
     "execution_count": 348,
     "metadata": {},
     "output_type": "execute_result"
    }
   ],
   "source": [
    "N['income'].value_counts()"
   ]
  },
  {
   "cell_type": "code",
   "execution_count": 349,
   "metadata": {},
   "outputs": [
    {
     "data": {
      "text/plain": [
       "21    844\n",
       "26    797\n",
       "31    587\n",
       "51    529\n",
       "36    382\n",
       "41    317\n",
       "46    217\n",
       "20    143\n",
       "Name: age, dtype: int64"
      ]
     },
     "execution_count": 349,
     "metadata": {},
     "output_type": "execute_result"
    }
   ],
   "source": [
    "N['age'].value_counts()"
   ]
  },
  {
   "cell_type": "code",
   "execution_count": 369,
   "metadata": {},
   "outputs": [
    {
     "data": {
      "text/plain": [
       "324"
      ]
     },
     "execution_count": 369,
     "metadata": {},
     "output_type": "execute_result"
    }
   ],
   "source": [
    "# Examining people who accepted a coupon while visiting a coffee house in sunny weather, before 10 am with an income less than 50K and age below 40\n",
    "\n",
    "sit1= N.loc[((N['weather'].str.contains('Sunny')) & (N['time'].str.contains('7AM|10AM')) & (N['income'] < 50000) & (N['age']<40)),'Y'].sum()\n",
    "sit1"
   ]
  },
  {
   "cell_type": "code",
   "execution_count": 370,
   "metadata": {},
   "outputs": [
    {
     "data": {
      "text/plain": [
       "276"
      ]
     },
     "execution_count": 370,
     "metadata": {},
     "output_type": "execute_result"
    }
   ],
   "source": [
    "# Examining people who accepted a coupon while visiting a coffee house in sunny weather, before 10 am with an income more than 50K and age below 40\n",
    "\n",
    "sit2= N.loc[((N['weather'].str.contains('Sunny')) & (N['time'].str.contains('7AM|10AM')) & (N['income'] > 50000) & (N['age']<40)),'Y'].sum()\n",
    "sit2"
   ]
  },
  {
   "cell_type": "code",
   "execution_count": 371,
   "metadata": {},
   "outputs": [
    {
     "data": {
      "text/plain": [
       "281"
      ]
     },
     "execution_count": 371,
     "metadata": {},
     "output_type": "execute_result"
    }
   ],
   "source": [
    "# Examining people who accepted a coupon while visiting a coffee house in sunny weather, after 10 am with an income of atleast 50K and age below 40\n",
    "\n",
    "sit3=N.loc[((N['weather'].str.contains('Sunny')) & (N['time'].str.contains('2PM|6PM|10PM')) & (N['income'] > 49999) & (N['age']<40)),'Y'].sum()\n",
    "sit3\n"
   ]
  },
  {
   "cell_type": "code",
   "execution_count": 372,
   "metadata": {},
   "outputs": [
    {
     "data": {
      "text/plain": [
       "262"
      ]
     },
     "execution_count": 372,
     "metadata": {},
     "output_type": "execute_result"
    }
   ],
   "source": [
    "# Examining people who accepted a coupon while visiting a coffee house in sunny weather, after 10 am with an income less than 50K and age below 40\n",
    "\n",
    "sit4=N.loc[((N['weather'].str.contains('Sunny')) & (N['time'].str.contains('2PM|6PM|10PM')) & (N['income'] < 49999) & (N['age']<40)),'Y'].sum()\n",
    "sit4"
   ]
  },
  {
   "cell_type": "code",
   "execution_count": 387,
   "metadata": {},
   "outputs": [
    {
     "data": {
      "text/plain": [
       "29"
      ]
     },
     "execution_count": 387,
     "metadata": {},
     "output_type": "execute_result"
    }
   ],
   "source": [
    "# Examining people who accepted a coupon while visiting a coffee house in snowy weather, before 10 am with an income less than 50K and age below 40\n",
    "\n",
    "sit5=N.loc[((N['weather'].str.contains('Snowy')) & (N['time'].str.contains('7AM|10AM')) & (N['income'] < 50000) & (N['age']<40)),'Y'].sum()\n",
    "sit5"
   ]
  },
  {
   "cell_type": "code",
   "execution_count": 375,
   "metadata": {},
   "outputs": [
    {
     "data": {
      "text/plain": [
       "1894"
      ]
     },
     "execution_count": 375,
     "metadata": {},
     "output_type": "execute_result"
    }
   ],
   "source": [
    "Total_coffee_accepted = N['Y'].sum()\n",
    "Total_coffee_accepted"
   ]
  },
  {
   "cell_type": "code",
   "execution_count": 399,
   "metadata": {},
   "outputs": [
    {
     "data": {
      "text/html": [
       "<div>\n",
       "<style scoped>\n",
       "    .dataframe tbody tr th:only-of-type {\n",
       "        vertical-align: middle;\n",
       "    }\n",
       "\n",
       "    .dataframe tbody tr th {\n",
       "        vertical-align: top;\n",
       "    }\n",
       "\n",
       "    .dataframe thead th {\n",
       "        text-align: right;\n",
       "    }\n",
       "</style>\n",
       "<table border=\"1\" class=\"dataframe\">\n",
       "  <thead>\n",
       "    <tr style=\"text-align: right;\">\n",
       "      <th></th>\n",
       "      <th>Situation</th>\n",
       "      <th>Numbers</th>\n",
       "    </tr>\n",
       "  </thead>\n",
       "  <tbody>\n",
       "    <tr>\n",
       "      <th>0</th>\n",
       "      <td>sunny weather,before 10 am,income&lt;50K</td>\n",
       "      <td>324</td>\n",
       "    </tr>\n",
       "    <tr>\n",
       "      <th>1</th>\n",
       "      <td>sunny weather,before 10 am,income&gt;50K</td>\n",
       "      <td>276</td>\n",
       "    </tr>\n",
       "    <tr>\n",
       "      <th>2</th>\n",
       "      <td>sunny weather,after 10 am,income&gt;50K</td>\n",
       "      <td>281</td>\n",
       "    </tr>\n",
       "    <tr>\n",
       "      <th>3</th>\n",
       "      <td>sunny weather,after 10 am,income&lt;50K</td>\n",
       "      <td>228</td>\n",
       "    </tr>\n",
       "    <tr>\n",
       "      <th>4</th>\n",
       "      <td>snowy weather,before 10 am,income&lt;50K</td>\n",
       "      <td>29</td>\n",
       "    </tr>\n",
       "  </tbody>\n",
       "</table>\n",
       "</div>"
      ],
      "text/plain": [
       "                               Situation  Numbers\n",
       "0  sunny weather,before 10 am,income<50K      324\n",
       "1  sunny weather,before 10 am,income>50K      276\n",
       "2   sunny weather,after 10 am,income>50K      281\n",
       "3   sunny weather,after 10 am,income<50K      228\n",
       "4  snowy weather,before 10 am,income<50K       29"
      ]
     },
     "execution_count": 399,
     "metadata": {},
     "output_type": "execute_result"
    }
   ],
   "source": [
    "# Creating a dataframe to plot a graph\n",
    "\n",
    "Alpha = [[\"sunny weather,before 10 am,income<50K\",sit1],\n",
    "         [\"sunny weather,before 10 am,income>50K\",sit2],\n",
    "         [\"sunny weather,after 10 am,income>50K\", sit3], \n",
    "         [\"sunny weather,after 10 am,income<50K\", sit4],\n",
    "         [\"snowy weather,before 10 am,income<50K\",sit5]]\n",
    "chart=pd.DataFrame(Alpha,columns=['Situation','Numbers'])\n",
    "chart"
   ]
  },
  {
   "cell_type": "code",
   "execution_count": 402,
   "metadata": {},
   "outputs": [
    {
     "data": {
      "text/plain": [
       "Text(0.5, 1.0, 'Count of various categories of people, all under the age of 40 who accepted coffee house coupons')"
      ]
     },
     "execution_count": 402,
     "metadata": {},
     "output_type": "execute_result"
    },
    {
     "data": {
      "image/png": "[encoded data removed]",
      "text/plain": [
       "<Figure size 432x288 with 1 Axes>"
      ]
     },
     "metadata": {
      "needs_background": "light"
     },
     "output_type": "display_data"
    }
   ],
   "source": [
    "chart.plot(kind='bar', x='Situation')\n",
    "plt.ylabel(\"Number of people who accepted the coupon\")\n",
    "plt.title(\"Count of various categories of people, all under the age of 40 who accepted coffee house coupons\")"
   ]
  },
  {
   "cell_type": "code",
   "execution_count": null,
   "metadata": {},
   "outputs": [],
   "source": [
    "# Based on the above analysis we can clearly see that the best target group for accepting coupons is people under the age of 40 who make less than 50k coming to a coffee shop before 10 am in sunny weather."
   ]
  },
  {
   "cell_type": "code",
   "execution_count": null,
   "metadata": {},
   "outputs": [],
   "source": []
  },
  {
   "cell_type": "code",
   "execution_count": null,
   "metadata": {},
   "outputs": [],
   "source": []
  }
 ],
 "metadata": {
  "kernelspec": {
   "display_name": "Python 3 (ipykernel)",
   "language": "python",
   "name": "python3"
  },
  "language_info": {
   "codemirror_mode": {
    "name": "ipython",
    "version": 3
   },
   "file_extension": ".py",
   "mimetype": "text/x-python",
   "name": "python",
   "nbconvert_exporter": "python",
   "pygments_lexer": "ipython3",
   "version": "3.9.12"
  },
  "widgets": {
   "application/vnd.jupyter.widget-state+json": {
    "state": {},
    "version_major": 2,
    "version_minor": 0
   }
  }
 },
 "nbformat": 4,
 "nbformat_minor": 4
}
